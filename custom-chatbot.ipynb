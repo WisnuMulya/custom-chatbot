{
 "cells": [
  {
   "cell_type": "markdown",
   "id": "124e5672",
   "metadata": {},
   "source": [
    "# Custom Chatbot Project"
   ]
  },
  {
   "cell_type": "markdown",
   "id": "2a4a94b3",
   "metadata": {},
   "source": [
    "TODO: In this cell, write an explanation of which dataset you have chosen and why it is appropriate for this task"
   ]
  },
  {
   "cell_type": "markdown",
   "id": "3b1530bb-c561-4f2f-abb0-15de415b6683",
   "metadata": {},
   "source": [
    "In this project, I am creating a custom chatbot that can answer medical questions based on its knowledge from medical journals.\n",
    "\n",
    "The largest open medical journal dataset available is PubMed dataset, and it offers a dataset containing questions with answers coming from medical journals. Thus, this dataset is appropriate for the custom chatbot task."
   ]
  },
  {
   "cell_type": "markdown",
   "id": "a63d4c5f",
   "metadata": {},
   "source": [
    "## Data Wrangling\n",
    "\n",
    "TODO: In the cells below, load your chosen dataset into a `pandas` dataframe with a column named `\"text\"`. This column should contain all of your text data, separated into at least 20 rows."
   ]
  },
  {
   "cell_type": "code",
   "execution_count": 2,
   "id": "c69b83a1",
   "metadata": {},
   "outputs": [],
   "source": [
    "from datasets import load_dataset # Import HuggingFace library\n",
    "import pandas as pd"
   ]
  },
  {
   "cell_type": "code",
   "execution_count": 3,
   "id": "0a595980",
   "metadata": {},
   "outputs": [
    {
     "name": "stderr",
     "output_type": "stream",
     "text": [
      "Downloading readme: 100%|██████████████████████████████████████████████████████████████████████████████████████████████████████████████████████████████████████████████████████████████████████████████████████████████████████████████████████████████████████| 5.19k/5.19k [00:00<00:00, 3.78MB/s]\n",
      "Downloading data: 100%|████████████████████████████████████████████████████████████████████████████████████████████████████████████████████████████████████████████████████████████████████████████████████████████████████████████████████████████████████████| 1.08M/1.08M [00:01<00:00, 1.03MB/s]\n",
      "Generating train split: 100%|█████████████████████████████████████████████████████████████████████████████████████████████████████████████████████████████████████████████████████████████████████████████████████████████████████████████████████████| 1000/1000 [00:00<00:00, 76225.42 examples/s]\n"
     ]
    }
   ],
   "source": [
    "# Download PubMedQA Dataset from HuggingFace\n",
    "dataset = load_dataset(\"pubmed_qa\", \"pqa_labeled\")"
   ]
  },
  {
   "cell_type": "code",
   "execution_count": 13,
   "id": "acb3a9fd",
   "metadata": {},
   "outputs": [
    {
     "data": {
      "text/plain": [
       "DatasetDict({\n",
       "    train: Dataset({\n",
       "        features: ['pubid', 'question', 'context', 'long_answer', 'final_decision'],\n",
       "        num_rows: 1000\n",
       "    })\n",
       "})"
      ]
     },
     "execution_count": 13,
     "metadata": {},
     "output_type": "execute_result"
    }
   ],
   "source": [
    "dataset"
   ]
  },
  {
   "cell_type": "code",
   "execution_count": 14,
   "id": "e2dab0b5-7b61-4671-bbd3-05f07daf11b4",
   "metadata": {},
   "outputs": [],
   "source": [
    "# Load the dataset into a pandas dataframe\n",
    "df = pd.DataFrame(dataset['train'])"
   ]
  },
  {
   "cell_type": "code",
   "execution_count": 23,
   "id": "4aac7c10-cd35-44a3-afd3-5c646a09f6b2",
   "metadata": {},
   "outputs": [
    {
     "data": {
      "text/html": [
       "<div>\n",
       "<style scoped>\n",
       "    .dataframe tbody tr th:only-of-type {\n",
       "        vertical-align: middle;\n",
       "    }\n",
       "\n",
       "    .dataframe tbody tr th {\n",
       "        vertical-align: top;\n",
       "    }\n",
       "\n",
       "    .dataframe thead th {\n",
       "        text-align: right;\n",
       "    }\n",
       "</style>\n",
       "<table border=\"1\" class=\"dataframe\">\n",
       "  <thead>\n",
       "    <tr style=\"text-align: right;\">\n",
       "      <th></th>\n",
       "      <th>pubid</th>\n",
       "      <th>question</th>\n",
       "      <th>context</th>\n",
       "      <th>long_answer</th>\n",
       "      <th>final_decision</th>\n",
       "    </tr>\n",
       "  </thead>\n",
       "  <tbody>\n",
       "    <tr>\n",
       "      <th>0</th>\n",
       "      <td>21645374</td>\n",
       "      <td>Do mitochondria play a role in remodelling lac...</td>\n",
       "      <td>{'contexts': ['Programmed cell death (PCD) is ...</td>\n",
       "      <td>Results depicted mitochondrial dynamics in viv...</td>\n",
       "      <td>yes</td>\n",
       "    </tr>\n",
       "    <tr>\n",
       "      <th>1</th>\n",
       "      <td>16418930</td>\n",
       "      <td>Landolt C and snellen e acuity: differences in...</td>\n",
       "      <td>{'contexts': ['Assessment of visual acuity dep...</td>\n",
       "      <td>Using the charts described, there was only a s...</td>\n",
       "      <td>no</td>\n",
       "    </tr>\n",
       "    <tr>\n",
       "      <th>2</th>\n",
       "      <td>9488747</td>\n",
       "      <td>Syncope during bathing in infants, a pediatric...</td>\n",
       "      <td>{'contexts': ['Apparent life-threatening event...</td>\n",
       "      <td>\"Aquagenic maladies\" could be a pediatric form...</td>\n",
       "      <td>yes</td>\n",
       "    </tr>\n",
       "    <tr>\n",
       "      <th>3</th>\n",
       "      <td>17208539</td>\n",
       "      <td>Are the long-term results of the transanal pul...</td>\n",
       "      <td>{'contexts': ['The transanal endorectal pull-t...</td>\n",
       "      <td>Our long-term study showed significantly bette...</td>\n",
       "      <td>no</td>\n",
       "    </tr>\n",
       "    <tr>\n",
       "      <th>4</th>\n",
       "      <td>10808977</td>\n",
       "      <td>Can tailored interventions increase mammograph...</td>\n",
       "      <td>{'contexts': ['Telephone counseling and tailor...</td>\n",
       "      <td>The effects of the intervention were most pron...</td>\n",
       "      <td>yes</td>\n",
       "    </tr>\n",
       "  </tbody>\n",
       "</table>\n",
       "</div>"
      ],
      "text/plain": [
       "      pubid                                           question  \\\n",
       "0  21645374  Do mitochondria play a role in remodelling lac...   \n",
       "1  16418930  Landolt C and snellen e acuity: differences in...   \n",
       "2   9488747  Syncope during bathing in infants, a pediatric...   \n",
       "3  17208539  Are the long-term results of the transanal pul...   \n",
       "4  10808977  Can tailored interventions increase mammograph...   \n",
       "\n",
       "                                             context  \\\n",
       "0  {'contexts': ['Programmed cell death (PCD) is ...   \n",
       "1  {'contexts': ['Assessment of visual acuity dep...   \n",
       "2  {'contexts': ['Apparent life-threatening event...   \n",
       "3  {'contexts': ['The transanal endorectal pull-t...   \n",
       "4  {'contexts': ['Telephone counseling and tailor...   \n",
       "\n",
       "                                         long_answer final_decision  \n",
       "0  Results depicted mitochondrial dynamics in viv...            yes  \n",
       "1  Using the charts described, there was only a s...             no  \n",
       "2  \"Aquagenic maladies\" could be a pediatric form...            yes  \n",
       "3  Our long-term study showed significantly bette...             no  \n",
       "4  The effects of the intervention were most pron...            yes  "
      ]
     },
     "execution_count": 23,
     "metadata": {},
     "output_type": "execute_result"
    }
   ],
   "source": [
    "df.head()"
   ]
  },
  {
   "cell_type": "markdown",
   "id": "ece7f1a1-c16f-4df5-bc67-6abfb0e59fbd",
   "metadata": {},
   "source": [
    "### Combine `question`, `context` and `long_answer` into `text` column"
   ]
  },
  {
   "cell_type": "markdown",
   "id": "79a5898d-05cf-49b5-9344-c7991c85b070",
   "metadata": {},
   "source": [
    "#### Analyzing data format for each columns"
   ]
  },
  {
   "cell_type": "code",
   "execution_count": 34,
   "id": "3bc9990d-8f37-4655-842e-e90ac76de64a",
   "metadata": {},
   "outputs": [
    {
     "data": {
      "text/plain": [
       "'Mammographic screening in Sami speaking municipalities and a control group. Are early outcome measures influenced by ethnicity?'"
      ]
     },
     "execution_count": 34,
     "metadata": {},
     "output_type": "execute_result"
    }
   ],
   "source": [
    "df['question'].loc[100]"
   ]
  },
  {
   "cell_type": "code",
   "execution_count": 35,
   "id": "440c48e7-449b-4761-a529-f699f7d03d9f",
   "metadata": {},
   "outputs": [
    {
     "data": {
      "text/plain": [
       "{'contexts': ['Female citizens of Sami (the indigenous people of Norway) municipalities in northern Norway have a low risk of breast cancer. The objective of this study was to describe the attendance rate and outcome of the Norwegian Breast Cancer Screening Program (NBCSP) in the Sami-speaking municipalities and a control group.',\n",
       "  'A retrospective registry-based study.',\n",
       "  'The 8 municipalities included in the administration area of the Sami language law (Sami) were matched with a control group of 11 municipalities (non-Sami). Population data were accessed from Statistics Norway. Data regarding invitations and outcome in the NBCSP during the period 2001-2010 was derived from the Cancer Registry of Norway (CRN). The NBCSP targets women aged 50-69 years. Rates and percentages were compared using chi-square test with a p-value<0.05 as statistical significant.',\n",
       "  'The attendance rate in the NBCSP was 78% in the Sami and 75% in the non-Sami population (p<0.01). The recall rates were 2.4 and 3.3% in the Sami and non-Sami population, respectively (p<0.01). The rate of invasive screen detected cancer was not significantly lower in the Sami group (p=0.14). The percentage of all breast cancers detected in the NBCSP among the Sami (67%) was lower compared with the non-Sami population (86%, p=0.06).'],\n",
       " 'labels': ['OBJECTIVES', 'STUDY DESIGN', 'METHODS', 'RESULTS'],\n",
       " 'meshes': ['Aged',\n",
       "  'Breast Neoplasms',\n",
       "  'Cohort Studies',\n",
       "  'Ethnic Groups',\n",
       "  'Female',\n",
       "  'Humans',\n",
       "  'Mammography',\n",
       "  'Middle Aged',\n",
       "  'Norway',\n",
       "  'Population Groups',\n",
       "  'Registries',\n",
       "  'Retrospective Studies'],\n",
       " 'reasoning_required_pred': ['y', 'e', 's'],\n",
       " 'reasoning_free_pred': ['y', 'e', 's']}"
      ]
     },
     "execution_count": 35,
     "metadata": {},
     "output_type": "execute_result"
    }
   ],
   "source": [
    "df['context'].loc[100]"
   ]
  },
  {
   "cell_type": "code",
   "execution_count": 36,
   "id": "0081ec06-9eeb-4055-b7d5-f46ac1eb5407",
   "metadata": {},
   "outputs": [
    {
     "data": {
      "text/plain": [
       "'Despite a lower risk of breast cancer, the Sami attended the NBCSP more frequently than the control group. The recall and cancer detection rate was lower among the Sami compared with the non-Sami group.'"
      ]
     },
     "execution_count": 36,
     "metadata": {},
     "output_type": "execute_result"
    }
   ],
   "source": [
    "df['long_answer'].loc[100]"
   ]
  },
  {
   "cell_type": "markdown",
   "id": "f6daa6df-1860-4afe-9dce-dd12db11acbd",
   "metadata": {},
   "source": [
    "#### Merging all strings from the three columns into a one-column dataframe"
   ]
  },
  {
   "cell_type": "code",
   "execution_count": 59,
   "id": "a8ccfe18-bdba-47bd-b320-98992ef4a8c5",
   "metadata": {},
   "outputs": [
    {
     "name": "stdout",
     "output_type": "stream",
     "text": [
      "Do mitochondria play a role in remodelling lace plant leaves during programmed cell death?\n",
      "\n",
      "Programmed cell death (PCD) is the regulated death of cells within an organism. The lace plant (Aponogeton madagascariensis) produces perforations in its leaves through PCD. The leaves of the plant consist of a latticework of longitudinal and transverse veins enclosing areoles. PCD occurs in the cells at the center of these areoles and progresses outwards, stopping approximately five cells from the vasculature. The role of mitochondria during PCD has been recognized in animals; however, it has been less studied during PCD in plants. The following paper elucidates the role of mitochondrial dynamics during developmentally regulated PCD in vivo in A. madagascariensis. A single areole within a window stage leaf (PCD is occurring) was divided into three areas based on the progression of PCD; cells that will not undergo PCD (NPCD), cells in early stages of PCD (EPCD), and cells in late stages of PCD (LPCD). Window stage leaves were stained with the mitochondrial dye MitoTracker Red CMXRos and examined. Mitochondrial dynamics were delineated into four categories (M1-M4) based on characteristics including distribution, motility, and membrane potential (ΔΨm). A TUNEL assay showed fragmented nDNA in a gradient over these mitochondrial stages. Chloroplasts and transvacuolar strands were also examined using live cell imaging. The possible importance of mitochondrial permeability transition pore (PTP) formation during PCD was indirectly examined via in vivo cyclosporine A (CsA) treatment. This treatment resulted in lace plant leaves with a significantly lower number of perforations compared to controls, and that displayed mitochondrial dynamics similar to that of non-PCD cells.\n",
      "\n",
      "Results depicted mitochondrial dynamics in vivo as PCD progresses within the lace plant, and highlight the correlation of this organelle with other organelles during developmental PCD. To the best of our knowledge, this is the first report of mitochondria and chloroplasts moving on transvacuolar strands to form a ring structure surrounding the nucleus during developmental PCD. Also, for the first time, we have shown the feasibility for the use of CsA in a whole plant system. Overall, our findings implicate the mitochondria as playing a critical and early role in developmentally regulated PCD in the lace plant.\n"
     ]
    }
   ],
   "source": [
    "# Example merging for row 1\n",
    "print(\n",
    "    (df['question'] + '\\n\\n' + df['context'].apply(lambda x: ' '.join(x['contexts'])) + '\\n\\n' + df['long_answer']).loc[0]\n",
    ")"
   ]
  },
  {
   "cell_type": "code",
   "execution_count": 60,
   "id": "f0087269-3fef-49e0-a26d-cf669326ddb4",
   "metadata": {},
   "outputs": [],
   "source": [
    "text_df = pd.DataFrame(\n",
    "    (df['question'] + '\\n\\n' + df['context'].apply(lambda x: ' '.join(x['contexts'])) + '\\n\\n' + df['long_answer']),\n",
    "    columns=['text']\n",
    ")"
   ]
  },
  {
   "cell_type": "code",
   "execution_count": 65,
   "id": "012a1c4a-38a3-4ca6-9cf9-34eab5576886",
   "metadata": {},
   "outputs": [
    {
     "data": {
      "text/html": [
       "<div>\n",
       "<style scoped>\n",
       "    .dataframe tbody tr th:only-of-type {\n",
       "        vertical-align: middle;\n",
       "    }\n",
       "\n",
       "    .dataframe tbody tr th {\n",
       "        vertical-align: top;\n",
       "    }\n",
       "\n",
       "    .dataframe thead th {\n",
       "        text-align: right;\n",
       "    }\n",
       "</style>\n",
       "<table border=\"1\" class=\"dataframe\">\n",
       "  <thead>\n",
       "    <tr style=\"text-align: right;\">\n",
       "      <th></th>\n",
       "      <th>text</th>\n",
       "    </tr>\n",
       "  </thead>\n",
       "  <tbody>\n",
       "    <tr>\n",
       "      <th>0</th>\n",
       "      <td>Do mitochondria play a role in remodelling lac...</td>\n",
       "    </tr>\n",
       "    <tr>\n",
       "      <th>1</th>\n",
       "      <td>Landolt C and snellen e acuity: differences in...</td>\n",
       "    </tr>\n",
       "    <tr>\n",
       "      <th>2</th>\n",
       "      <td>Syncope during bathing in infants, a pediatric...</td>\n",
       "    </tr>\n",
       "    <tr>\n",
       "      <th>3</th>\n",
       "      <td>Are the long-term results of the transanal pul...</td>\n",
       "    </tr>\n",
       "    <tr>\n",
       "      <th>4</th>\n",
       "      <td>Can tailored interventions increase mammograph...</td>\n",
       "    </tr>\n",
       "  </tbody>\n",
       "</table>\n",
       "</div>"
      ],
      "text/plain": [
       "                                                text\n",
       "0  Do mitochondria play a role in remodelling lac...\n",
       "1  Landolt C and snellen e acuity: differences in...\n",
       "2  Syncope during bathing in infants, a pediatric...\n",
       "3  Are the long-term results of the transanal pul...\n",
       "4  Can tailored interventions increase mammograph..."
      ]
     },
     "execution_count": 65,
     "metadata": {},
     "output_type": "execute_result"
    }
   ],
   "source": [
    "text_df.head()"
   ]
  },
  {
   "cell_type": "markdown",
   "id": "9c11302b-2f7a-4b8f-a3c8-534cf7a7eeb8",
   "metadata": {},
   "source": [
    "#### Save `text_df` into a CSV file"
   ]
  },
  {
   "cell_type": "code",
   "execution_count": 66,
   "id": "9e18c9ed-f278-4eee-9d8c-7d18f46faec8",
   "metadata": {},
   "outputs": [],
   "source": [
    "text_df.to_csv('./text_df.csv', index=False)"
   ]
  },
  {
   "cell_type": "markdown",
   "id": "ae769871",
   "metadata": {},
   "source": [
    "## Custom Query Completion\n",
    "\n",
    "TODO: In the cells below, compose a custom query using your chosen dataset and retrieve results from an OpenAI `Completion` model. You may copy and paste any useful code from the course materials."
   ]
  },
  {
   "cell_type": "code",
   "execution_count": null,
   "id": "582f0656",
   "metadata": {},
   "outputs": [],
   "source": []
  },
  {
   "cell_type": "code",
   "execution_count": null,
   "id": "8b6e1f75",
   "metadata": {},
   "outputs": [],
   "source": []
  },
  {
   "cell_type": "code",
   "execution_count": null,
   "id": "13f2dcd7",
   "metadata": {},
   "outputs": [],
   "source": []
  },
  {
   "cell_type": "code",
   "execution_count": null,
   "id": "c403f543",
   "metadata": {},
   "outputs": [],
   "source": []
  },
  {
   "cell_type": "code",
   "execution_count": null,
   "id": "74280b92",
   "metadata": {},
   "outputs": [],
   "source": []
  },
  {
   "cell_type": "markdown",
   "id": "1783f146",
   "metadata": {},
   "source": [
    "## Custom Performance Demonstration\n",
    "\n",
    "TODO: In the cells below, demonstrate the performance of your custom query using at least 2 questions. For each question, show the answer from a basic `Completion` model query as well as the answer from your custom query."
   ]
  },
  {
   "cell_type": "markdown",
   "id": "4f11fdc0",
   "metadata": {},
   "source": [
    "### Question 1"
   ]
  },
  {
   "cell_type": "code",
   "execution_count": null,
   "id": "4901c850",
   "metadata": {},
   "outputs": [],
   "source": []
  },
  {
   "cell_type": "code",
   "execution_count": null,
   "id": "bd7a093b",
   "metadata": {},
   "outputs": [],
   "source": []
  },
  {
   "cell_type": "markdown",
   "id": "6e86e37c",
   "metadata": {},
   "source": [
    "### Question 2"
   ]
  },
  {
   "cell_type": "code",
   "execution_count": null,
   "id": "6f646989",
   "metadata": {},
   "outputs": [],
   "source": []
  },
  {
   "cell_type": "code",
   "execution_count": null,
   "id": "11c07a54",
   "metadata": {},
   "outputs": [],
   "source": []
  }
 ],
 "metadata": {
  "kernelspec": {
   "display_name": "Python 3 (ipykernel)",
   "language": "python",
   "name": "python3"
  },
  "language_info": {
   "codemirror_mode": {
    "name": "ipython",
    "version": 3
   },
   "file_extension": ".py",
   "mimetype": "text/x-python",
   "name": "python",
   "nbconvert_exporter": "python",
   "pygments_lexer": "ipython3",
   "version": "3.9.19"
  }
 },
 "nbformat": 4,
 "nbformat_minor": 5
}
