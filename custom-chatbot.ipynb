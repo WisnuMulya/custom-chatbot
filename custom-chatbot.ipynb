{
 "cells": [
  {
   "cell_type": "markdown",
   "id": "124e5672",
   "metadata": {},
   "source": [
    "# Custom Chatbot Project"
   ]
  },
  {
   "cell_type": "markdown",
   "id": "2a4a94b3",
   "metadata": {},
   "source": [
    "TODO: In this cell, write an explanation of which dataset you have chosen and why it is appropriate for this task"
   ]
  },
  {
   "cell_type": "markdown",
   "id": "3b1530bb-c561-4f2f-abb0-15de415b6683",
   "metadata": {},
   "source": [
    "In this project, I am creating a custom chatbot that can answer medical questions based on its knowledge from medical journals.\n",
    "\n",
    "The largest open medical journal dataset available is PubMed dataset, and it offers a dataset containing questions with answers coming from medical journals. Thus, this dataset is appropriate for the custom chatbot task."
   ]
  },
  {
   "cell_type": "markdown",
   "id": "a63d4c5f",
   "metadata": {},
   "source": [
    "## Data Wrangling"
   ]
  },
  {
   "cell_type": "code",
   "execution_count": 1,
   "id": "c69b83a1",
   "metadata": {},
   "outputs": [
    {
     "name": "stderr",
     "output_type": "stream",
     "text": [
      "/opt/homebrew/Caskroom/miniforge/base/envs/custom-chatbot-udacity/lib/python3.9/site-packages/tqdm/auto.py:22: TqdmWarning: IProgress not found. Please update jupyter and ipywidgets. See https://ipywidgets.readthedocs.io/en/stable/user_install.html\n",
      "  from .autonotebook import tqdm as notebook_tqdm\n"
     ]
    }
   ],
   "source": [
    "from datasets import load_dataset # Import HuggingFace library\n",
    "import pandas as pd"
   ]
  },
  {
   "cell_type": "code",
   "execution_count": 2,
   "id": "0a595980",
   "metadata": {},
   "outputs": [],
   "source": [
    "# Download PubMedQA Dataset from HuggingFace\n",
    "dataset = load_dataset(\"pubmed_qa\", \"pqa_labeled\") # Source: https://huggingface.co/datasets/qiaojin/PubMedQA"
   ]
  },
  {
   "cell_type": "code",
   "execution_count": 3,
   "id": "acb3a9fd",
   "metadata": {},
   "outputs": [
    {
     "data": {
      "text/plain": [
       "DatasetDict({\n",
       "    train: Dataset({\n",
       "        features: ['pubid', 'question', 'context', 'long_answer', 'final_decision'],\n",
       "        num_rows: 1000\n",
       "    })\n",
       "})"
      ]
     },
     "execution_count": 3,
     "metadata": {},
     "output_type": "execute_result"
    }
   ],
   "source": [
    "dataset"
   ]
  },
  {
   "cell_type": "code",
   "execution_count": 4,
   "id": "e2dab0b5-7b61-4671-bbd3-05f07daf11b4",
   "metadata": {},
   "outputs": [],
   "source": [
    "# Load the dataset into a pandas dataframe\n",
    "df = pd.DataFrame(dataset['train'])"
   ]
  },
  {
   "cell_type": "code",
   "execution_count": 5,
   "id": "4aac7c10-cd35-44a3-afd3-5c646a09f6b2",
   "metadata": {},
   "outputs": [
    {
     "data": {
      "text/html": [
       "<div>\n",
       "<style scoped>\n",
       "    .dataframe tbody tr th:only-of-type {\n",
       "        vertical-align: middle;\n",
       "    }\n",
       "\n",
       "    .dataframe tbody tr th {\n",
       "        vertical-align: top;\n",
       "    }\n",
       "\n",
       "    .dataframe thead th {\n",
       "        text-align: right;\n",
       "    }\n",
       "</style>\n",
       "<table border=\"1\" class=\"dataframe\">\n",
       "  <thead>\n",
       "    <tr style=\"text-align: right;\">\n",
       "      <th></th>\n",
       "      <th>pubid</th>\n",
       "      <th>question</th>\n",
       "      <th>context</th>\n",
       "      <th>long_answer</th>\n",
       "      <th>final_decision</th>\n",
       "    </tr>\n",
       "  </thead>\n",
       "  <tbody>\n",
       "    <tr>\n",
       "      <th>0</th>\n",
       "      <td>21645374</td>\n",
       "      <td>Do mitochondria play a role in remodelling lac...</td>\n",
       "      <td>{'contexts': ['Programmed cell death (PCD) is ...</td>\n",
       "      <td>Results depicted mitochondrial dynamics in viv...</td>\n",
       "      <td>yes</td>\n",
       "    </tr>\n",
       "    <tr>\n",
       "      <th>1</th>\n",
       "      <td>16418930</td>\n",
       "      <td>Landolt C and snellen e acuity: differences in...</td>\n",
       "      <td>{'contexts': ['Assessment of visual acuity dep...</td>\n",
       "      <td>Using the charts described, there was only a s...</td>\n",
       "      <td>no</td>\n",
       "    </tr>\n",
       "    <tr>\n",
       "      <th>2</th>\n",
       "      <td>9488747</td>\n",
       "      <td>Syncope during bathing in infants, a pediatric...</td>\n",
       "      <td>{'contexts': ['Apparent life-threatening event...</td>\n",
       "      <td>\"Aquagenic maladies\" could be a pediatric form...</td>\n",
       "      <td>yes</td>\n",
       "    </tr>\n",
       "    <tr>\n",
       "      <th>3</th>\n",
       "      <td>17208539</td>\n",
       "      <td>Are the long-term results of the transanal pul...</td>\n",
       "      <td>{'contexts': ['The transanal endorectal pull-t...</td>\n",
       "      <td>Our long-term study showed significantly bette...</td>\n",
       "      <td>no</td>\n",
       "    </tr>\n",
       "    <tr>\n",
       "      <th>4</th>\n",
       "      <td>10808977</td>\n",
       "      <td>Can tailored interventions increase mammograph...</td>\n",
       "      <td>{'contexts': ['Telephone counseling and tailor...</td>\n",
       "      <td>The effects of the intervention were most pron...</td>\n",
       "      <td>yes</td>\n",
       "    </tr>\n",
       "  </tbody>\n",
       "</table>\n",
       "</div>"
      ],
      "text/plain": [
       "      pubid                                           question  \\\n",
       "0  21645374  Do mitochondria play a role in remodelling lac...   \n",
       "1  16418930  Landolt C and snellen e acuity: differences in...   \n",
       "2   9488747  Syncope during bathing in infants, a pediatric...   \n",
       "3  17208539  Are the long-term results of the transanal pul...   \n",
       "4  10808977  Can tailored interventions increase mammograph...   \n",
       "\n",
       "                                             context  \\\n",
       "0  {'contexts': ['Programmed cell death (PCD) is ...   \n",
       "1  {'contexts': ['Assessment of visual acuity dep...   \n",
       "2  {'contexts': ['Apparent life-threatening event...   \n",
       "3  {'contexts': ['The transanal endorectal pull-t...   \n",
       "4  {'contexts': ['Telephone counseling and tailor...   \n",
       "\n",
       "                                         long_answer final_decision  \n",
       "0  Results depicted mitochondrial dynamics in viv...            yes  \n",
       "1  Using the charts described, there was only a s...             no  \n",
       "2  \"Aquagenic maladies\" could be a pediatric form...            yes  \n",
       "3  Our long-term study showed significantly bette...             no  \n",
       "4  The effects of the intervention were most pron...            yes  "
      ]
     },
     "execution_count": 5,
     "metadata": {},
     "output_type": "execute_result"
    }
   ],
   "source": [
    "df.head()"
   ]
  },
  {
   "cell_type": "markdown",
   "id": "ece7f1a1-c16f-4df5-bc67-6abfb0e59fbd",
   "metadata": {},
   "source": [
    "### Combine `question`, `context` and `long_answer` into `text` column"
   ]
  },
  {
   "cell_type": "markdown",
   "id": "79a5898d-05cf-49b5-9344-c7991c85b070",
   "metadata": {},
   "source": [
    "#### Analyzing data format for each columns"
   ]
  },
  {
   "cell_type": "code",
   "execution_count": 6,
   "id": "3bc9990d-8f37-4655-842e-e90ac76de64a",
   "metadata": {},
   "outputs": [
    {
     "data": {
      "text/plain": [
       "'Mammographic screening in Sami speaking municipalities and a control group. Are early outcome measures influenced by ethnicity?'"
      ]
     },
     "execution_count": 6,
     "metadata": {},
     "output_type": "execute_result"
    }
   ],
   "source": [
    "df['question'].loc[100]"
   ]
  },
  {
   "cell_type": "code",
   "execution_count": 7,
   "id": "440c48e7-449b-4761-a529-f699f7d03d9f",
   "metadata": {},
   "outputs": [
    {
     "data": {
      "text/plain": [
       "{'contexts': ['Female citizens of Sami (the indigenous people of Norway) municipalities in northern Norway have a low risk of breast cancer. The objective of this study was to describe the attendance rate and outcome of the Norwegian Breast Cancer Screening Program (NBCSP) in the Sami-speaking municipalities and a control group.',\n",
       "  'A retrospective registry-based study.',\n",
       "  'The 8 municipalities included in the administration area of the Sami language law (Sami) were matched with a control group of 11 municipalities (non-Sami). Population data were accessed from Statistics Norway. Data regarding invitations and outcome in the NBCSP during the period 2001-2010 was derived from the Cancer Registry of Norway (CRN). The NBCSP targets women aged 50-69 years. Rates and percentages were compared using chi-square test with a p-value<0.05 as statistical significant.',\n",
       "  'The attendance rate in the NBCSP was 78% in the Sami and 75% in the non-Sami population (p<0.01). The recall rates were 2.4 and 3.3% in the Sami and non-Sami population, respectively (p<0.01). The rate of invasive screen detected cancer was not significantly lower in the Sami group (p=0.14). The percentage of all breast cancers detected in the NBCSP among the Sami (67%) was lower compared with the non-Sami population (86%, p=0.06).'],\n",
       " 'labels': ['OBJECTIVES', 'STUDY DESIGN', 'METHODS', 'RESULTS'],\n",
       " 'meshes': ['Aged',\n",
       "  'Breast Neoplasms',\n",
       "  'Cohort Studies',\n",
       "  'Ethnic Groups',\n",
       "  'Female',\n",
       "  'Humans',\n",
       "  'Mammography',\n",
       "  'Middle Aged',\n",
       "  'Norway',\n",
       "  'Population Groups',\n",
       "  'Registries',\n",
       "  'Retrospective Studies'],\n",
       " 'reasoning_required_pred': ['y', 'e', 's'],\n",
       " 'reasoning_free_pred': ['y', 'e', 's']}"
      ]
     },
     "execution_count": 7,
     "metadata": {},
     "output_type": "execute_result"
    }
   ],
   "source": [
    "df['context'].loc[100]"
   ]
  },
  {
   "cell_type": "code",
   "execution_count": 8,
   "id": "0081ec06-9eeb-4055-b7d5-f46ac1eb5407",
   "metadata": {},
   "outputs": [
    {
     "data": {
      "text/plain": [
       "'Despite a lower risk of breast cancer, the Sami attended the NBCSP more frequently than the control group. The recall and cancer detection rate was lower among the Sami compared with the non-Sami group.'"
      ]
     },
     "execution_count": 8,
     "metadata": {},
     "output_type": "execute_result"
    }
   ],
   "source": [
    "df['long_answer'].loc[100]"
   ]
  },
  {
   "cell_type": "markdown",
   "id": "f6daa6df-1860-4afe-9dce-dd12db11acbd",
   "metadata": {},
   "source": [
    "#### Merging all strings from the three columns into a one-column dataframe"
   ]
  },
  {
   "cell_type": "code",
   "execution_count": 9,
   "id": "a8ccfe18-bdba-47bd-b320-98992ef4a8c5",
   "metadata": {},
   "outputs": [
    {
     "name": "stdout",
     "output_type": "stream",
     "text": [
      "Do mitochondria play a role in remodelling lace plant leaves during programmed cell death?\n",
      "\n",
      "Programmed cell death (PCD) is the regulated death of cells within an organism. The lace plant (Aponogeton madagascariensis) produces perforations in its leaves through PCD. The leaves of the plant consist of a latticework of longitudinal and transverse veins enclosing areoles. PCD occurs in the cells at the center of these areoles and progresses outwards, stopping approximately five cells from the vasculature. The role of mitochondria during PCD has been recognized in animals; however, it has been less studied during PCD in plants. The following paper elucidates the role of mitochondrial dynamics during developmentally regulated PCD in vivo in A. madagascariensis. A single areole within a window stage leaf (PCD is occurring) was divided into three areas based on the progression of PCD; cells that will not undergo PCD (NPCD), cells in early stages of PCD (EPCD), and cells in late stages of PCD (LPCD). Window stage leaves were stained with the mitochondrial dye MitoTracker Red CMXRos and examined. Mitochondrial dynamics were delineated into four categories (M1-M4) based on characteristics including distribution, motility, and membrane potential (ΔΨm). A TUNEL assay showed fragmented nDNA in a gradient over these mitochondrial stages. Chloroplasts and transvacuolar strands were also examined using live cell imaging. The possible importance of mitochondrial permeability transition pore (PTP) formation during PCD was indirectly examined via in vivo cyclosporine A (CsA) treatment. This treatment resulted in lace plant leaves with a significantly lower number of perforations compared to controls, and that displayed mitochondrial dynamics similar to that of non-PCD cells.\n",
      "\n",
      "Results depicted mitochondrial dynamics in vivo as PCD progresses within the lace plant, and highlight the correlation of this organelle with other organelles during developmental PCD. To the best of our knowledge, this is the first report of mitochondria and chloroplasts moving on transvacuolar strands to form a ring structure surrounding the nucleus during developmental PCD. Also, for the first time, we have shown the feasibility for the use of CsA in a whole plant system. Overall, our findings implicate the mitochondria as playing a critical and early role in developmentally regulated PCD in the lace plant.\n"
     ]
    }
   ],
   "source": [
    "# Example merging for row 1\n",
    "print(\n",
    "    (df['question'] + '\\n\\n' + df['context'].apply(lambda x: ' '.join(x['contexts'])) + '\\n\\n' + df['long_answer']).loc[0]\n",
    ")"
   ]
  },
  {
   "cell_type": "code",
   "execution_count": 10,
   "id": "f0087269-3fef-49e0-a26d-cf669326ddb4",
   "metadata": {},
   "outputs": [],
   "source": [
    "text_df = pd.DataFrame(\n",
    "    (df['question'] + '\\n\\n' + df['context'].apply(lambda x: ' '.join(x['contexts'])) + '\\n\\n' + df['long_answer']),\n",
    "    columns=['text']\n",
    ")"
   ]
  },
  {
   "cell_type": "code",
   "execution_count": 11,
   "id": "012a1c4a-38a3-4ca6-9cf9-34eab5576886",
   "metadata": {},
   "outputs": [
    {
     "data": {
      "text/html": [
       "<div>\n",
       "<style scoped>\n",
       "    .dataframe tbody tr th:only-of-type {\n",
       "        vertical-align: middle;\n",
       "    }\n",
       "\n",
       "    .dataframe tbody tr th {\n",
       "        vertical-align: top;\n",
       "    }\n",
       "\n",
       "    .dataframe thead th {\n",
       "        text-align: right;\n",
       "    }\n",
       "</style>\n",
       "<table border=\"1\" class=\"dataframe\">\n",
       "  <thead>\n",
       "    <tr style=\"text-align: right;\">\n",
       "      <th></th>\n",
       "      <th>text</th>\n",
       "    </tr>\n",
       "  </thead>\n",
       "  <tbody>\n",
       "    <tr>\n",
       "      <th>0</th>\n",
       "      <td>Do mitochondria play a role in remodelling lac...</td>\n",
       "    </tr>\n",
       "    <tr>\n",
       "      <th>1</th>\n",
       "      <td>Landolt C and snellen e acuity: differences in...</td>\n",
       "    </tr>\n",
       "    <tr>\n",
       "      <th>2</th>\n",
       "      <td>Syncope during bathing in infants, a pediatric...</td>\n",
       "    </tr>\n",
       "    <tr>\n",
       "      <th>3</th>\n",
       "      <td>Are the long-term results of the transanal pul...</td>\n",
       "    </tr>\n",
       "    <tr>\n",
       "      <th>4</th>\n",
       "      <td>Can tailored interventions increase mammograph...</td>\n",
       "    </tr>\n",
       "  </tbody>\n",
       "</table>\n",
       "</div>"
      ],
      "text/plain": [
       "                                                text\n",
       "0  Do mitochondria play a role in remodelling lac...\n",
       "1  Landolt C and snellen e acuity: differences in...\n",
       "2  Syncope during bathing in infants, a pediatric...\n",
       "3  Are the long-term results of the transanal pul...\n",
       "4  Can tailored interventions increase mammograph..."
      ]
     },
     "execution_count": 11,
     "metadata": {},
     "output_type": "execute_result"
    }
   ],
   "source": [
    "text_df.head()"
   ]
  },
  {
   "cell_type": "markdown",
   "id": "9c11302b-2f7a-4b8f-a3c8-534cf7a7eeb8",
   "metadata": {},
   "source": [
    "#### Save `text_df` into a CSV file"
   ]
  },
  {
   "cell_type": "code",
   "execution_count": 12,
   "id": "9e18c9ed-f278-4eee-9d8c-7d18f46faec8",
   "metadata": {},
   "outputs": [],
   "source": [
    "text_df.to_csv('./text_df.csv', index=False)"
   ]
  },
  {
   "cell_type": "markdown",
   "id": "ae769871",
   "metadata": {},
   "source": [
    "## Custom Query Completion"
   ]
  },
  {
   "cell_type": "markdown",
   "id": "0eb2550e-7011-43b3-9135-23501823d6f5",
   "metadata": {},
   "source": [
    "#### Connect to OpenAI"
   ]
  },
  {
   "cell_type": "code",
   "execution_count": 13,
   "id": "582f0656",
   "metadata": {},
   "outputs": [],
   "source": [
    "import os\n",
    "import openai\n",
    "\n",
    "# Set the OpenAI API key here. Change the assignment to a string instead for a direct pasting.\n",
    "openai.api_key=os.environ.get(\"OPENAI_API_KEY\")"
   ]
  },
  {
   "cell_type": "code",
   "execution_count": 15,
   "id": "8b6e1f75",
   "metadata": {},
   "outputs": [],
   "source": [
    "prompt = \"When did Russia invade Ukraine?\"\n",
    "answer = openai.Completion.create(\n",
    "    model=\"gpt-3.5-turbo-instruct\",\n",
    "    prompt=prompt\n",
    ")"
   ]
  },
  {
   "cell_type": "markdown",
   "id": "89c59ee8-6a01-4de8-bbbd-e6c760e7fa98",
   "metadata": {},
   "source": [
    "#### Create Embeddings"
   ]
  },
  {
   "cell_type": "code",
   "execution_count": 20,
   "id": "c403f543",
   "metadata": {},
   "outputs": [],
   "source": [
    "EMBEDDING_MODEL = 'text-embedding-ada-002'\n",
    "embed_resp = openai.Embedding.create(\n",
    "    model=EMBEDDING_MODEL,\n",
    "    input=text_df['text'].tolist()\n",
    ")"
   ]
  },
  {
   "cell_type": "code",
   "execution_count": 24,
   "id": "74280b92",
   "metadata": {
    "scrolled": true
   },
   "outputs": [],
   "source": [
    "embeddings = [data.embedding for data in embed_resp.data]"
   ]
  },
  {
   "cell_type": "code",
   "execution_count": 27,
   "id": "e3c9c66a-4efb-436e-b11c-1e2e2947b3d1",
   "metadata": {},
   "outputs": [
    {
     "data": {
      "text/plain": [
       "1000"
      ]
     },
     "execution_count": 27,
     "metadata": {},
     "output_type": "execute_result"
    }
   ],
   "source": [
    "len(embeddings)"
   ]
  },
  {
   "cell_type": "code",
   "execution_count": 28,
   "id": "c780ce25-c9f1-459c-bd9b-1173c89a9117",
   "metadata": {},
   "outputs": [],
   "source": [
    "text_df['embedding'] = embeddings"
   ]
  },
  {
   "cell_type": "code",
   "execution_count": 29,
   "id": "b4d533aa-56c9-46c2-a0e6-de9011b8773d",
   "metadata": {},
   "outputs": [
    {
     "data": {
      "text/html": [
       "<div>\n",
       "<style scoped>\n",
       "    .dataframe tbody tr th:only-of-type {\n",
       "        vertical-align: middle;\n",
       "    }\n",
       "\n",
       "    .dataframe tbody tr th {\n",
       "        vertical-align: top;\n",
       "    }\n",
       "\n",
       "    .dataframe thead th {\n",
       "        text-align: right;\n",
       "    }\n",
       "</style>\n",
       "<table border=\"1\" class=\"dataframe\">\n",
       "  <thead>\n",
       "    <tr style=\"text-align: right;\">\n",
       "      <th></th>\n",
       "      <th>text</th>\n",
       "      <th>embedding</th>\n",
       "    </tr>\n",
       "  </thead>\n",
       "  <tbody>\n",
       "    <tr>\n",
       "      <th>0</th>\n",
       "      <td>Do mitochondria play a role in remodelling lac...</td>\n",
       "      <td>[-0.015485687181353569, -0.009461959823966026,...</td>\n",
       "    </tr>\n",
       "    <tr>\n",
       "      <th>1</th>\n",
       "      <td>Landolt C and snellen e acuity: differences in...</td>\n",
       "      <td>[0.0042733196169137955, 0.020611297339200974, ...</td>\n",
       "    </tr>\n",
       "    <tr>\n",
       "      <th>2</th>\n",
       "      <td>Syncope during bathing in infants, a pediatric...</td>\n",
       "      <td>[0.007913217879831791, 0.02330002933740616, 0....</td>\n",
       "    </tr>\n",
       "    <tr>\n",
       "      <th>3</th>\n",
       "      <td>Are the long-term results of the transanal pul...</td>\n",
       "      <td>[-0.013925756327807903, 0.020487992092967033, ...</td>\n",
       "    </tr>\n",
       "    <tr>\n",
       "      <th>4</th>\n",
       "      <td>Can tailored interventions increase mammograph...</td>\n",
       "      <td>[-0.040134165436029434, -0.0025001068133860826...</td>\n",
       "    </tr>\n",
       "  </tbody>\n",
       "</table>\n",
       "</div>"
      ],
      "text/plain": [
       "                                                text  \\\n",
       "0  Do mitochondria play a role in remodelling lac...   \n",
       "1  Landolt C and snellen e acuity: differences in...   \n",
       "2  Syncope during bathing in infants, a pediatric...   \n",
       "3  Are the long-term results of the transanal pul...   \n",
       "4  Can tailored interventions increase mammograph...   \n",
       "\n",
       "                                           embedding  \n",
       "0  [-0.015485687181353569, -0.009461959823966026,...  \n",
       "1  [0.0042733196169137955, 0.020611297339200974, ...  \n",
       "2  [0.007913217879831791, 0.02330002933740616, 0....  \n",
       "3  [-0.013925756327807903, 0.020487992092967033, ...  \n",
       "4  [-0.040134165436029434, -0.0025001068133860826...  "
      ]
     },
     "execution_count": 29,
     "metadata": {},
     "output_type": "execute_result"
    }
   ],
   "source": [
    "text_df.head()"
   ]
  },
  {
   "cell_type": "markdown",
   "id": "43d6198c-d71d-42ff-a6d5-fa6b35b66873",
   "metadata": {},
   "source": [
    "Save DF with embeddings"
   ]
  },
  {
   "cell_type": "code",
   "execution_count": 30,
   "id": "c1642bdb-63af-4a55-9175-4c7942835903",
   "metadata": {},
   "outputs": [],
   "source": [
    "text_df.to_csv('./text_embedding_df.csv', index=False)"
   ]
  },
  {
   "cell_type": "markdown",
   "id": "6ec574ef-1800-4ac7-8af8-13d9ddaf7375",
   "metadata": {},
   "source": [
    "#### Semantic Similarity Searching"
   ]
  },
  {
   "cell_type": "code",
   "execution_count": 47,
   "id": "8483e9d1-382a-4144-b13c-7b6d1e29d817",
   "metadata": {},
   "outputs": [],
   "source": [
    "from scipy.spatial.distance import cosine as cosine_distance\n",
    "\n",
    "def get_rows_sorted_by_relevance(question, df):\n",
    "    # Get embedding for the question\n",
    "    question_resp = openai.Embedding.create(\n",
    "        model=EMBEDDING_MODEL,\n",
    "        input=question\n",
    "    )\n",
    "    question_embeddings = question_resp.data[0].embedding\n",
    "    \n",
    "    # Get cosine distance of all text in the df from the question\n",
    "    question_distance = [cosine_distance(question_embeddings, data_embeddings) for data_embeddings in df['embedding'].tolist()]\n",
    "    q_df = df.copy()\n",
    "    q_df['distance'] = question_distance\n",
    "\n",
    "    # Sort the DF\n",
    "    q_df.sort_values('distance', inplace=True, ascending=True)\n",
    "\n",
    "    return q_df"
   ]
  },
  {
   "cell_type": "markdown",
   "id": "ea72125a-24bf-4440-81c5-2ab5af2d935b",
   "metadata": {},
   "source": [
    "#### Composing Custom Prompt"
   ]
  },
  {
   "cell_type": "code",
   "execution_count": 52,
   "id": "c8260233-b267-4188-b669-6ce3bf339f32",
   "metadata": {},
   "outputs": [],
   "source": [
    "import tiktoken\n",
    "\n",
    "def create_prompt(question, df, max_token_count):\n",
    "    \"\"\"\n",
    "    Given a question and a dataframe containing rows of text and their\n",
    "    embeddings, return a text prompt to send to a Completion model\n",
    "    \"\"\"\n",
    "    # Create a tokenizer that is designed to align with our embeddings\n",
    "    tokenizer = tiktoken.get_encoding(\"cl100k_base\")\n",
    "\n",
    "    # Count the number of tokens in the prompt template and question\n",
    "    prompt_template = \"\"\"\n",
    "Answer the question based on the context of questions and answers below, and if the question\n",
    "can't be answered based on the context, say \"I don't know\".\n",
    "\n",
    "Context: \n",
    "\n",
    "{}\n",
    "\n",
    "---\n",
    "\n",
    "Question: {}\n",
    "Answer:\"\"\"\n",
    "\n",
    "    current_token_count = len(tokenizer.encode(prompt_template)) + \\\n",
    "                            len(tokenizer.encode(question))\n",
    "\n",
    "    context = []\n",
    "    for text in get_rows_sorted_by_relevance(question, df)[\"text\"].values:\n",
    "\n",
    "        # Increase the counter based on the number of tokens in this row\n",
    "        text_token_count = len(tokenizer.encode(text))\n",
    "        current_token_count += text_token_count\n",
    "\n",
    "        # Add the row of text to the list if we haven't exceeded the max\n",
    "        if current_token_count <= max_token_count:\n",
    "            context.append(text)\n",
    "        else:\n",
    "            break\n",
    "\n",
    "\n",
    "    return prompt_template.format(\"\\n\\n###\\n\\n\".join(context), question)"
   ]
  },
  {
   "cell_type": "code",
   "execution_count": 54,
   "id": "bc68d690-b80e-47a4-95cc-12684257f148",
   "metadata": {
    "scrolled": true
   },
   "outputs": [
    {
     "name": "stdout",
     "output_type": "stream",
     "text": [
      "\n",
      "Answer the question based on the context of questions and answers below, and if the question\n",
      "can't be answered based on the context, say \"I don't know\".\n",
      "\n",
      "Context: \n",
      "\n",
      "Landolt C and snellen e acuity: differences in strabismus amblyopia?\n",
      "\n",
      "Assessment of visual acuity depends on the optotypes used for measurement. The ability to recognize different optotypes differs even if their critical details appear under the same visual angle. Since optotypes are evaluated on individuals with good visual acuity and without eye disorders, differences in the lower visual acuity range cannot be excluded. In this study, visual acuity measured with the Snellen E was compared to the Landolt C acuity. 100 patients (age 8 - 90 years, median 60.5 years) with various eye disorders, among them 39 with amblyopia due to strabismus, and 13 healthy volunteers were tested. Charts with the Snellen E and the Landolt C (Precision Vision) which mimic the ETDRS charts were used to assess visual acuity. Three out of 5 optotypes per line had to be correctly identified, while wrong answers were monitored. In the group of patients, the eyes with the lower visual acuity, and the right eyes of the healthy subjects, were evaluated. Differences between Landolt C acuity (LR) and Snellen E acuity (SE) were small. The mean decimal values for LR and SE were 0.25 and 0.29 in the entire group and 0.14 and 0.16 for the eyes with strabismus amblyopia. The mean difference between LR and SE was 0.55 lines in the entire group and 0.55 lines for the eyes with strabismus amblyopia, with higher values of SE in both groups. The results of the other groups were similar with only small differences between LR and SE.\n",
      "\n",
      "Using the charts described, there was only a slight overestimation of visual acuity by the Snellen E compared to the Landolt C, even in strabismus amblyopia. Small differences in the lower visual acuity range have to be considered.\n",
      "\n",
      "###\n",
      "\n",
      "Amblyopia: is visual loss permanent?\n",
      "\n",
      "The records of 465 patients with an established diagnosis of age related macular degeneration who had attended a specialist macular clinic between 1990 and 1998 were scrutinised. A full clinical examination and standardised refraction had been carried out in 189 of these cases on a minimum of two occasions. Cases were looked for where an improvement of one or more lines of either distance or near acuity was recorded in the eye unaffected by macular disease. In each one of these cases the improvement in visual acuity could not be attributed to treatment of other existing pathology. 12 such cases were detected. In nine of these the eye showing improvement of acuity had a history of amblyopia. The mean improvement in distance and near acuity in amblyopic eyes by 12 months was 3.3 and 1.9 lines logMAR respectively. The improvement in acuity generally occurred between 1 and 12 months from baseline and remained stable over the period of follow up.\n",
      "\n",
      "Older people with a history of amblyopia who develop visual loss in the previously normal eye can experience recovery of visual function in the amblyopic eye over a period of time. This recovery in visual function occurs in the wake of visual loss in the fellow eye and the improvement appears to be sustained.\n",
      "\n",
      "---\n",
      "\n",
      "Question: Landolt C and snellen e acuity: differences in strabismus amblyopia?\n",
      "Answer:\n"
     ]
    }
   ],
   "source": [
    "# Print example prompt\n",
    "print(create_prompt('Landolt C and snellen e acuity: differences in strabismus amblyopia?', text_df, 1000))"
   ]
  },
  {
   "cell_type": "markdown",
   "id": "e608f12d-2ea0-4f91-88be-4f8c69a30f78",
   "metadata": {},
   "source": [
    "#### Querying Based on Custom Prompt"
   ]
  },
  {
   "cell_type": "code",
   "execution_count": 55,
   "id": "44e46c0b-afa3-4bc9-8b15-d5b7d3bb875a",
   "metadata": {},
   "outputs": [],
   "source": [
    "COMPLETION_MODEL_NAME = 'gpt-3.5-turbo-instruct'\n",
    "\n",
    "def answer_question(question, df, max_prompt_tokens=1800, max_answer_tokens=150):\n",
    "    prompt = create_prompt(question, df, max_prompt_tokens)\n",
    "\n",
    "    try:\n",
    "        response = openai.Completion.create(\n",
    "            model=COMPLETION_MODEL_NAME,\n",
    "            prompt=prompt,\n",
    "            max_tokens=max_answer_tokens\n",
    "        )\n",
    "        return response.choices[0].text.strip()\n",
    "    except Exception as e:\n",
    "        print(e)\n",
    "        return \"\""
   ]
  },
  {
   "cell_type": "code",
   "execution_count": 60,
   "id": "201595f1-c838-4b88-8440-ea9253c2f001",
   "metadata": {},
   "outputs": [
    {
     "name": "stdin",
     "output_type": "stream",
     "text": [
      "Write your question here:  Landolt C and snellen e acuity: differences in strabismus amblyopia?\n"
     ]
    },
    {
     "name": "stdout",
     "output_type": "stream",
     "text": [
      "Yes, there were small differences in visual acuity measured with the Snellen E and Landolt C charts among patients with strabismus amblyopia.\n",
      "\n",
      "\n"
     ]
    },
    {
     "name": "stdin",
     "output_type": "stream",
     "text": [
      "Write your question here:  stop\n"
     ]
    },
    {
     "name": "stdout",
     "output_type": "stream",
     "text": [
      "The context does not provide enough information to accurately answer this question.\n",
      "\n",
      "\n"
     ]
    }
   ],
   "source": [
    "# Using while and input to write question directly without running the function manually\n",
    "question = ''\n",
    "while question != 'stop':\n",
    "    question = input('Write your question here: ')\n",
    "    answer = answer_question(question, text_df)\n",
    "    print(answer + '\\n\\n')"
   ]
  },
  {
   "cell_type": "markdown",
   "id": "1783f146",
   "metadata": {},
   "source": [
    "## Custom Performance Demonstration"
   ]
  },
  {
   "cell_type": "markdown",
   "id": "4f11fdc0",
   "metadata": {},
   "source": [
    "### Question 1"
   ]
  },
  {
   "cell_type": "markdown",
   "id": "71d16391-fb3c-4b72-84a0-d28cb912dda5",
   "metadata": {},
   "source": [
    "#### Default Response"
   ]
  },
  {
   "cell_type": "code",
   "execution_count": 89,
   "id": "4901c850",
   "metadata": {},
   "outputs": [],
   "source": [
    "question = \"Landolt C and snellen e acuity: differences in strabismus amblyopia?\"\n",
    "answer = openai.Completion.create(\n",
    "    model=\"gpt-3.5-turbo-instruct\",\n",
    "    prompt=question\n",
    ")"
   ]
  },
  {
   "cell_type": "code",
   "execution_count": 90,
   "id": "bd7a093b",
   "metadata": {},
   "outputs": [
    {
     "data": {
      "text/plain": [
       "' | BMC Ophthalmology | Full Text\\n\\nTable 2 Precision in visual ac'"
      ]
     },
     "execution_count": 90,
     "metadata": {},
     "output_type": "execute_result"
    }
   ],
   "source": [
    "answer.choices[0]['text']"
   ]
  },
  {
   "cell_type": "markdown",
   "id": "d04e7f98-6e7e-42d6-b6c7-737a00412b9b",
   "metadata": {},
   "source": [
    "#### Custom Prompt"
   ]
  },
  {
   "cell_type": "code",
   "execution_count": 91,
   "id": "53a80fa4-ec72-4394-8d03-f5b43e159537",
   "metadata": {},
   "outputs": [
    {
     "name": "stdout",
     "output_type": "stream",
     "text": [
      "Yes, there were small differences in the lower visual acuity range when comparing Landolt C and Snellen E acuity in patients with various eye disorders, including those with amblyopia due to strabismus. These differences were confirmed even when evaluating eyes with the lower visual acuity and the right eyes of healthy individuals. Additionally, there was only a slight overestimation of visual acuity by the Snellen E compared to the Landolt C method.\n"
     ]
    }
   ],
   "source": [
    "question = \"Landolt C and snellen e acuity: differences in strabismus amblyopia?\"\n",
    "answer = answer_question(question, text_df)\n",
    "print(answer)"
   ]
  },
  {
   "cell_type": "markdown",
   "id": "6e86e37c",
   "metadata": {},
   "source": [
    "### Question 2"
   ]
  },
  {
   "cell_type": "markdown",
   "id": "4a143265-6661-4b27-84f6-ed5f0f8f43d1",
   "metadata": {},
   "source": [
    "#### Default Response"
   ]
  },
  {
   "cell_type": "code",
   "execution_count": 107,
   "id": "11c07a54",
   "metadata": {},
   "outputs": [],
   "source": [
    "question = \"Double balloon enteroscopy: is it efficacious and safe in a community setting?\"\n",
    "answer = openai.Completion.create(\n",
    "    model=\"gpt-3.5-turbo-instruct\",\n",
    "    prompt=question\n",
    ")"
   ]
  },
  {
   "cell_type": "code",
   "execution_count": 108,
   "id": "d2acdeaa-f84c-46ef-88a0-f327c0919352",
   "metadata": {},
   "outputs": [
    {
     "data": {
      "text/plain": [
       "'\\n\\nDouble balloon enteroscopy (DBE) is a minimally invasive end'"
      ]
     },
     "execution_count": 108,
     "metadata": {},
     "output_type": "execute_result"
    }
   ],
   "source": [
    "answer.choices[0]['text']"
   ]
  },
  {
   "cell_type": "markdown",
   "id": "d525a226-023e-4ff1-b80d-158864ec88c9",
   "metadata": {},
   "source": [
    "#### Custom Prompt"
   ]
  },
  {
   "cell_type": "code",
   "execution_count": 112,
   "id": "eb1b18e9-b081-4220-88d1-6a36685ad97e",
   "metadata": {},
   "outputs": [
    {
     "name": "stdout",
     "output_type": "stream",
     "text": [
      "Yes, according to the data presented in the context, double-balloon enteroscopy appears to be both safe and effective when performed in a community setting.\n"
     ]
    }
   ],
   "source": [
    "question = \"Double balloon enteroscopy: is it efficacious and safe in a community setting?\"\n",
    "answer = answer_question(question, text_df)\n",
    "print(answer)"
   ]
  }
 ],
 "metadata": {
  "kernelspec": {
   "display_name": "Python 3 (ipykernel)",
   "language": "python",
   "name": "python3"
  },
  "language_info": {
   "codemirror_mode": {
    "name": "ipython",
    "version": 3
   },
   "file_extension": ".py",
   "mimetype": "text/x-python",
   "name": "python",
   "nbconvert_exporter": "python",
   "pygments_lexer": "ipython3",
   "version": "3.9.19"
  }
 },
 "nbformat": 4,
 "nbformat_minor": 5
}
